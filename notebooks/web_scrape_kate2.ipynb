{
 "cells": [
  {
   "cell_type": "code",
   "execution_count": 1,
   "metadata": {
    "id": "SQ4O3pa3CV-E"
   },
   "outputs": [],
   "source": [
    "import pandas as pd\n",
    "import re\n",
    "import requests \n",
    "from bs4 import BeautifulSoup \n",
    "import time \n",
    "import random\n",
    "import lxml\n",
    "import winsound"
   ]
  },
  {
   "cell_type": "code",
   "execution_count": 2,
   "metadata": {
    "colab": {
     "base_uri": "https://localhost:8080/",
     "height": 215
    },
    "id": "kWdRlEdPxfM_",
    "outputId": "f739c6a3-7270-4dd3-b75b-e27ca6ed20f3"
   },
   "outputs": [],
   "source": [
    "# read in data from github\n",
    "path = \"https://raw.githubusercontent.com/ppp-ds4a/ppp_cleaning_eda/main/data/yelp_precovid.csv\"\n",
    "df = pd.read_csv(path, index_col = \"Unnamed: 0\")"
   ]
  },
  {
   "cell_type": "code",
   "execution_count": 3,
   "metadata": {
    "colab": {
     "base_uri": "https://localhost:8080/",
     "height": 215
    },
    "id": "kWdRlEdPxfM_",
    "outputId": "f739c6a3-7270-4dd3-b75b-e27ca6ed20f3",
    "scrolled": true
   },
   "outputs": [
    {
     "name": "stdout",
     "output_type": "stream",
     "text": [
      "(149766, 9)\n"
     ]
    },
    {
     "data": {
      "text/html": [
       "<div>\n",
       "<style scoped>\n",
       "    .dataframe tbody tr th:only-of-type {\n",
       "        vertical-align: middle;\n",
       "    }\n",
       "\n",
       "    .dataframe tbody tr th {\n",
       "        vertical-align: top;\n",
       "    }\n",
       "\n",
       "    .dataframe thead th {\n",
       "        text-align: right;\n",
       "    }\n",
       "</style>\n",
       "<table border=\"1\" class=\"dataframe\">\n",
       "  <thead>\n",
       "    <tr style=\"text-align: right;\">\n",
       "      <th></th>\n",
       "      <th>business_id</th>\n",
       "      <th>name</th>\n",
       "      <th>address</th>\n",
       "      <th>city</th>\n",
       "      <th>state</th>\n",
       "      <th>postal_code</th>\n",
       "      <th>open_precovid</th>\n",
       "      <th>combined</th>\n",
       "      <th>rank</th>\n",
       "    </tr>\n",
       "  </thead>\n",
       "  <tbody>\n",
       "    <tr>\n",
       "      <th>130720</th>\n",
       "      <td>XmO_f4I8Srd1oGF1EGbRhA</td>\n",
       "      <td>Starbucks</td>\n",
       "      <td>3752 Las Vegas Blvd S</td>\n",
       "      <td>Las Vegas</td>\n",
       "      <td>NV</td>\n",
       "      <td>89109</td>\n",
       "      <td>1</td>\n",
       "      <td>Starbucks Las Vegas</td>\n",
       "      <td>1.0</td>\n",
       "    </tr>\n",
       "    <tr>\n",
       "      <th>45936</th>\n",
       "      <td>eVvnRqb4GSJUfN5k2-9oOQ</td>\n",
       "      <td>Bird Bar</td>\n",
       "      <td>3555 Las Vegas Blvd S</td>\n",
       "      <td>Las Vegas</td>\n",
       "      <td>NV</td>\n",
       "      <td>89109</td>\n",
       "      <td>1</td>\n",
       "      <td>Bird Bar Las Vegas</td>\n",
       "      <td>1.0</td>\n",
       "    </tr>\n",
       "    <tr>\n",
       "      <th>102255</th>\n",
       "      <td>YzlgswAwmpkMQifS3-YQTw</td>\n",
       "      <td>Conservatory &amp; Botanical Garden</td>\n",
       "      <td>3600 S Las Vegas Blvd</td>\n",
       "      <td>Las Vegas</td>\n",
       "      <td>NV</td>\n",
       "      <td>89109</td>\n",
       "      <td>1</td>\n",
       "      <td>Conservatory &amp; Botanical Garden Las Vegas</td>\n",
       "      <td>1.0</td>\n",
       "    </tr>\n",
       "    <tr>\n",
       "      <th>70489</th>\n",
       "      <td>zVfSwYFqDnWiKsMA4_jsAg</td>\n",
       "      <td>The NoMad Hotel Las Vegas</td>\n",
       "      <td>3772 S Las Vegas Blvd</td>\n",
       "      <td>Las Vegas</td>\n",
       "      <td>NV</td>\n",
       "      <td>89109</td>\n",
       "      <td>1</td>\n",
       "      <td>The NoMad Hotel Las Vegas Las Vegas</td>\n",
       "      <td>1.0</td>\n",
       "    </tr>\n",
       "    <tr>\n",
       "      <th>102269</th>\n",
       "      <td>9gxS7SYLl8EuhVNHWU1omQ</td>\n",
       "      <td>Windows At Bally's Las Vegas</td>\n",
       "      <td>3655 Las Vegas Blvd S</td>\n",
       "      <td>Las Vegas</td>\n",
       "      <td>NV</td>\n",
       "      <td>89109</td>\n",
       "      <td>1</td>\n",
       "      <td>Windows At Bally's Las Vegas Las Vegas</td>\n",
       "      <td>1.0</td>\n",
       "    </tr>\n",
       "  </tbody>\n",
       "</table>\n",
       "</div>"
      ],
      "text/plain": [
       "                   business_id                             name  \\\n",
       "130720  XmO_f4I8Srd1oGF1EGbRhA                        Starbucks   \n",
       "45936   eVvnRqb4GSJUfN5k2-9oOQ                         Bird Bar   \n",
       "102255  YzlgswAwmpkMQifS3-YQTw  Conservatory & Botanical Garden   \n",
       "70489   zVfSwYFqDnWiKsMA4_jsAg        The NoMad Hotel Las Vegas   \n",
       "102269  9gxS7SYLl8EuhVNHWU1omQ     Windows At Bally's Las Vegas   \n",
       "\n",
       "                      address       city state  postal_code  open_precovid  \\\n",
       "130720  3752 Las Vegas Blvd S  Las Vegas    NV        89109              1   \n",
       "45936   3555 Las Vegas Blvd S  Las Vegas    NV        89109              1   \n",
       "102255  3600 S Las Vegas Blvd  Las Vegas    NV        89109              1   \n",
       "70489   3772 S Las Vegas Blvd  Las Vegas    NV        89109              1   \n",
       "102269  3655 Las Vegas Blvd S  Las Vegas    NV        89109              1   \n",
       "\n",
       "                                         combined  rank  \n",
       "130720                        Starbucks Las Vegas   1.0  \n",
       "45936                          Bird Bar Las Vegas   1.0  \n",
       "102255  Conservatory & Botanical Garden Las Vegas   1.0  \n",
       "70489         The NoMad Hotel Las Vegas Las Vegas   1.0  \n",
       "102269     Windows At Bally's Las Vegas Las Vegas   1.0  "
      ]
     },
     "execution_count": 3,
     "metadata": {},
     "output_type": "execute_result"
    }
   ],
   "source": [
    "# remove rows with missing \"combined\" column\n",
    "df = df[df[\"combined\"].isnull() == False]\n",
    "\n",
    "# rename the \"open\" column\n",
    "df.rename(columns = {\"is_open\" : \"open_precovid\"}, inplace = True)\n",
    "\n",
    "# generate the \"rank\" column\n",
    "rank_d = dict(df[\"postal_code\"].value_counts().rank(ascending=False))\n",
    "df[\"rank\"] = df[\"postal_code\"].map(rank_d)\n",
    "df = df.sort_values(\"rank\")\n",
    "\n",
    "print(df.shape)\n",
    "df.head(5)"
   ]
  },
  {
   "cell_type": "code",
   "execution_count": 4,
   "metadata": {},
   "outputs": [],
   "source": [
    "# subset to only odd ranks\n",
    "#df = df[df[\"rank\"] % 2 == 1]\n",
    "\n",
    "# subset to only even ranks\n",
    "df = df[df[\"rank\"] % 2 == 0]"
   ]
  },
  {
   "cell_type": "code",
   "execution_count": 5,
   "metadata": {
    "id": "4QhUnJonV4Bj"
   },
   "outputs": [],
   "source": [
    "def regex_clean(x):\n",
    "    \n",
    "    x = x.title()\n",
    "\n",
    "    # character groups\n",
    "    char1 = \"['`]\"              # chars to remove\n",
    "    char2 = \"[. / - , _ : -]\"   # chars to replace with whitespace\n",
    "\n",
    "    # regex substitution\n",
    "    x = re.sub(\"[&]\", \"and\", x)   # replace & with and\n",
    "    x = re.sub(char1, \"\", x)      # remove\n",
    "    x = re.sub(char2, \" \", x)     # replace with whitespace\n",
    "    x = re.sub(\" +\", \"-\", x)      # replace all sequences of one or more whitespace with one dash\n",
    "\n",
    "    return \"https://www.yelp.com/biz/\" + x.lower()"
   ]
  },
  {
   "cell_type": "code",
   "execution_count": 65,
   "metadata": {
    "colab": {
     "base_uri": "https://localhost:8080/"
    },
    "id": "RCZFLq6z0TkR",
    "outputId": "482a90de-c61d-4afa-e750-d06e6dfd5cec"
   },
   "outputs": [],
   "source": [
    "# Change to adjust sample size of test\n",
    "sample_start = 5000\n",
    "sample_end = 6000\n",
    "\n",
    "# completed runs\n",
    "# 0 to 5000\n",
    "# 20000 to 27000"
   ]
  },
  {
   "cell_type": "code",
   "execution_count": 66,
   "metadata": {
    "colab": {
     "base_uri": "https://localhost:8080/"
    },
    "id": "RCZFLq6z0TkR",
    "outputId": "482a90de-c61d-4afa-e750-d06e6dfd5cec"
   },
   "outputs": [],
   "source": [
    "# Return a list of random samples from \"combined\" column\n",
    "sample = df[[\"combined\", \"business_id\"]].iloc[sample_start:sample_end]"
   ]
  },
  {
   "cell_type": "code",
   "execution_count": 67,
   "metadata": {},
   "outputs": [],
   "source": [
    "# generate a url column using the regex_clean function\n",
    "sample[\"url\"] = sample[\"combined\"].apply(regex_clean)"
   ]
  },
  {
   "cell_type": "code",
   "execution_count": 68,
   "metadata": {},
   "outputs": [
    {
     "name": "stdout",
     "output_type": "stream",
     "text": [
      "Sample Length:  1000\n"
     ]
    },
    {
     "data": {
      "text/html": [
       "<div>\n",
       "<style scoped>\n",
       "    .dataframe tbody tr th:only-of-type {\n",
       "        vertical-align: middle;\n",
       "    }\n",
       "\n",
       "    .dataframe tbody tr th {\n",
       "        vertical-align: top;\n",
       "    }\n",
       "\n",
       "    .dataframe thead th {\n",
       "        text-align: right;\n",
       "    }\n",
       "</style>\n",
       "<table border=\"1\" class=\"dataframe\">\n",
       "  <thead>\n",
       "    <tr style=\"text-align: right;\">\n",
       "      <th></th>\n",
       "      <th>combined</th>\n",
       "      <th>business_id</th>\n",
       "      <th>url</th>\n",
       "    </tr>\n",
       "  </thead>\n",
       "  <tbody>\n",
       "    <tr>\n",
       "      <th>115648</th>\n",
       "      <td>PT's Gold Las Vegas</td>\n",
       "      <td>8ovqtunN8zGdCbYi-MCTAQ</td>\n",
       "      <td>https://www.yelp.com/biz/pts-gold-las-vegas</td>\n",
       "    </tr>\n",
       "    <tr>\n",
       "      <th>24921</th>\n",
       "      <td>Bob's Autodynamics Las Vegas</td>\n",
       "      <td>MPGrHMnDFzXCr-EtNSDh2g</td>\n",
       "      <td>https://www.yelp.com/biz/bobs-autodynamics-las...</td>\n",
       "    </tr>\n",
       "    <tr>\n",
       "      <th>28950</th>\n",
       "      <td>Dotty's #7 Las Vegas</td>\n",
       "      <td>9WeJvvyT-j3btKwvTXyzjw</td>\n",
       "      <td>https://www.yelp.com/biz/dottys-#7-las-vegas</td>\n",
       "    </tr>\n",
       "    <tr>\n",
       "      <th>11641</th>\n",
       "      <td>Robert Sidell Injury Attorney Las Vegas</td>\n",
       "      <td>xM85pGuYSvLTUEfm3Nm5uA</td>\n",
       "      <td>https://www.yelp.com/biz/robert-sidell-injury-...</td>\n",
       "    </tr>\n",
       "    <tr>\n",
       "      <th>155194</th>\n",
       "      <td>History For Sale Las Vegas</td>\n",
       "      <td>C5RiblUAGreWQd2vLmkKaQ</td>\n",
       "      <td>https://www.yelp.com/biz/history-for-sale-las-...</td>\n",
       "    </tr>\n",
       "  </tbody>\n",
       "</table>\n",
       "</div>"
      ],
      "text/plain": [
       "                                       combined             business_id  \\\n",
       "115648                      PT's Gold Las Vegas  8ovqtunN8zGdCbYi-MCTAQ   \n",
       "24921              Bob's Autodynamics Las Vegas  MPGrHMnDFzXCr-EtNSDh2g   \n",
       "28950                      Dotty's #7 Las Vegas  9WeJvvyT-j3btKwvTXyzjw   \n",
       "11641   Robert Sidell Injury Attorney Las Vegas  xM85pGuYSvLTUEfm3Nm5uA   \n",
       "155194               History For Sale Las Vegas  C5RiblUAGreWQd2vLmkKaQ   \n",
       "\n",
       "                                                      url  \n",
       "115648        https://www.yelp.com/biz/pts-gold-las-vegas  \n",
       "24921   https://www.yelp.com/biz/bobs-autodynamics-las...  \n",
       "28950        https://www.yelp.com/biz/dottys-#7-las-vegas  \n",
       "11641   https://www.yelp.com/biz/robert-sidell-injury-...  \n",
       "155194  https://www.yelp.com/biz/history-for-sale-las-...  "
      ]
     },
     "execution_count": 68,
     "metadata": {},
     "output_type": "execute_result"
    }
   ],
   "source": [
    "print(\"Sample Length: \", len(sample))\n",
    "sample.head()"
   ]
  },
  {
   "cell_type": "code",
   "execution_count": 69,
   "metadata": {},
   "outputs": [],
   "source": [
    "agent = \"Mozilla/5.0 (Windows NT 10.0; Win64; x64) AppleWebKit/537.36 (KHTML, like Gecko) Chrome/42.0.2311.135 Safari/537.36 Edge/12.246\"\n",
    "\n",
    "head = {}\n",
    "head[\"User-Agent\"] = agent\n",
    "head[\"referrer\"] = \"https://www.google.com\"\n",
    "head[\"Dnt\"] = \"1\" \n",
    "head[\"Connection\"] = \"keep-alive\"\n",
    "head[\"Upgrade-Insecure-Requests\"] = \"1\""
   ]
  },
  {
   "cell_type": "code",
   "execution_count": null,
   "metadata": {
    "colab": {
     "base_uri": "https://localhost:8080/"
    },
    "id": "RCZFLq6z0TkR",
    "outputId": "482a90de-c61d-4afa-e750-d06e6dfd5cec"
   },
   "outputs": [],
   "source": [
    "# Collect results for statistic estimation\n",
    "response_dict = {}\n",
    "url_404_ls = []\n",
    "url_404_index_ls = []\n",
    "closed_open_ls = []\n",
    "\n",
    "# loop through samples and clean and check for reponse codes\n",
    "for x in sample.index:\n",
    "    # Delay next execution by random integer between 1-25\n",
    "    time.sleep(random.randint(5, 25))\n",
    "\n",
    "    r = requests.get(sample.url[x], headers = head)\n",
    "\n",
    "    if str(r) == '<Response [503]>':\n",
    "        print(f\"503 found at iteration: {x}\")\n",
    "        break\n",
    "    \n",
    "    # If 404 then continue\n",
    "    if str(r) == '<Response [404]>':\n",
    "        #url_404_ls.append(regex_clean(sample[x]))\n",
    "        #url_404_index_ls.append(df[df[\"combined\"].str.contains(sample[x])].index[0])\n",
    "        closed_open_ls.append(-1)\n",
    "        continue\n",
    "\n",
    "    \n",
    "    if str(r) not in response_dict:\n",
    "        response_dict[str(r)] = 1\n",
    "    elif str(r) in response_dict:\n",
    "        response_dict[str(r)] += 1\n",
    "    \n",
    "    # Try to find alert saying business is closed, if not then return \"no\", continue if no list returned (bad request) \n",
    "    try: \n",
    "        e = \"no\"\n",
    "        closed = BeautifulSoup(r.text, \"lxml\").find_all(\"span\", {\"class\": \"raw__373c0__3rcx7\"})[0].text\n",
    "\n",
    "        if len(closed) == 0:\n",
    "            closed_open_ls.append(-1)\n",
    "            continue\n",
    "    except:\n",
    "        closed = e\n",
    "\n",
    "    # Save to list whether business is open or closed\n",
    "    if closed == \"Yelpers report this location has closed.\":\n",
    "        closed_open_ls.append(0)\n",
    "    else:\n",
    "        closed_open_ls.append(1)"
   ]
  },
  {
   "cell_type": "code",
   "execution_count": null,
   "metadata": {},
   "outputs": [],
   "source": [
    "len(closed_open_ls)"
   ]
  },
  {
   "cell_type": "code",
   "execution_count": null,
   "metadata": {},
   "outputs": [],
   "source": [
    "sample[\"open_postcovid\"] = closed_open_ls\n",
    "sample.head()"
   ]
  },
  {
   "cell_type": "code",
   "execution_count": null,
   "metadata": {},
   "outputs": [],
   "source": [
    "# merges the scrape output with original data and saves to csv\n",
    "sample[[\"business_id\", \"url\", \"open_postcovid\"]].merge(df[[\"business_id\", \"name\", \"address\", \"city\", \"state\", \"postal_code\", \"open_precovid\"]], how = \"inner\").to_csv(\"data/output\" + str(sample_start) + \"to\" + str(sample_end) + \".csv\")"
   ]
  },
  {
   "cell_type": "code",
   "execution_count": null,
   "metadata": {},
   "outputs": [],
   "source": [
    "winsound.Beep(1500, 1000)"
   ]
  },
  {
   "cell_type": "code",
   "execution_count": null,
   "metadata": {},
   "outputs": [],
   "source": []
  }
 ],
 "metadata": {
  "colab": {
   "collapsed_sections": [],
   "name": "web_scrape.ipynb",
   "provenance": []
  },
  "kernelspec": {
   "display_name": "Python 3",
   "language": "python",
   "name": "python3"
  },
  "language_info": {
   "codemirror_mode": {
    "name": "ipython",
    "version": 3
   },
   "file_extension": ".py",
   "mimetype": "text/x-python",
   "name": "python",
   "nbconvert_exporter": "python",
   "pygments_lexer": "ipython3",
   "version": "3.7.7"
  }
 },
 "nbformat": 4,
 "nbformat_minor": 4
}
