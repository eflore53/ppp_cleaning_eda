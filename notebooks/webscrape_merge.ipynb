{
 "cells": [
  {
   "cell_type": "code",
   "execution_count": 1,
   "metadata": {},
   "outputs": [],
   "source": [
    "import fnmatch\n",
    "import os\n",
    "import numpy\n",
    "import pandas\n",
    "import seaborn"
   ]
  },
  {
   "cell_type": "code",
   "execution_count": 2,
   "metadata": {},
   "outputs": [],
   "source": [
    "# generate an empty dataframe\n",
    "df = pandas.DataFrame(columns = [\"business_id\", \"url\", \"name\", \"open_precovid\", \"open_postcovid\", \"address\", \"city\", \"state\", \"postal_code\"])"
   ]
  },
  {
   "cell_type": "code",
   "execution_count": 3,
   "metadata": {},
   "outputs": [],
   "source": [
    "# loop over all files in the directory and concatenate the scrape output files\n",
    "for file in os.listdir(\"data\"):\n",
    "    if fnmatch.fnmatch(file, \"output*to*.csv\"):\n",
    "        df = pandas.concat([df, pandas.read_csv(\"data/\" + file, index_col = \"Unnamed: 0\")])"
   ]
  },
  {
   "cell_type": "code",
   "execution_count": 4,
   "metadata": {},
   "outputs": [
    {
     "data": {
      "text/html": [
       "<div>\n",
       "<style scoped>\n",
       "    .dataframe tbody tr th:only-of-type {\n",
       "        vertical-align: middle;\n",
       "    }\n",
       "\n",
       "    .dataframe tbody tr th {\n",
       "        vertical-align: top;\n",
       "    }\n",
       "\n",
       "    .dataframe thead th {\n",
       "        text-align: right;\n",
       "    }\n",
       "</style>\n",
       "<table border=\"1\" class=\"dataframe\">\n",
       "  <thead>\n",
       "    <tr style=\"text-align: right;\">\n",
       "      <th></th>\n",
       "      <th>business_id</th>\n",
       "      <th>url</th>\n",
       "      <th>name</th>\n",
       "      <th>open_precovid</th>\n",
       "      <th>open_postcovid</th>\n",
       "      <th>address</th>\n",
       "      <th>city</th>\n",
       "      <th>state</th>\n",
       "      <th>postal_code</th>\n",
       "    </tr>\n",
       "  </thead>\n",
       "  <tbody>\n",
       "    <tr>\n",
       "      <th>0</th>\n",
       "      <td>CUUYW_p6UjItCOVR_Q0oQg</td>\n",
       "      <td>https://www.yelp.com/biz/Pure-Scottsdale</td>\n",
       "      <td>100% Pure</td>\n",
       "      <td>1</td>\n",
       "      <td>-1</td>\n",
       "      <td>7014 E Camelback Rd, Spc 2072</td>\n",
       "      <td>Scottsdale</td>\n",
       "      <td>AZ</td>\n",
       "      <td>85251</td>\n",
       "    </tr>\n",
       "    <tr>\n",
       "      <th>1</th>\n",
       "      <td>u2iiLNWXPDRa2atKiDWzpQ</td>\n",
       "      <td>https://www.yelp.com/biz/Sacred-Grounds-Jazz-C...</td>\n",
       "      <td>Sacred Grounds Jazz Coffeehouse</td>\n",
       "      <td>1</td>\n",
       "      <td>1</td>\n",
       "      <td>4425 N Granite Reef Rd</td>\n",
       "      <td>Scottsdale</td>\n",
       "      <td>AZ</td>\n",
       "      <td>85251</td>\n",
       "    </tr>\n",
       "    <tr>\n",
       "      <th>2</th>\n",
       "      <td>eGEJomznMqJYqGun2ZXRpg</td>\n",
       "      <td>https://www.yelp.com/biz/Salon-Tour-De-Force-S...</td>\n",
       "      <td>Salon Tour De Force</td>\n",
       "      <td>1</td>\n",
       "      <td>1</td>\n",
       "      <td>7134 E 5th Ave</td>\n",
       "      <td>Scottsdale</td>\n",
       "      <td>AZ</td>\n",
       "      <td>85251</td>\n",
       "    </tr>\n",
       "    <tr>\n",
       "      <th>3</th>\n",
       "      <td>79V8osIXJft6FIixcnFRww</td>\n",
       "      <td>https://www.yelp.com/biz/El-Dorado-Apartments-...</td>\n",
       "      <td>El Dorado Apartments - CAM Properties</td>\n",
       "      <td>0</td>\n",
       "      <td>-1</td>\n",
       "      <td>6825 E 4th St</td>\n",
       "      <td>Scottsdale</td>\n",
       "      <td>AZ</td>\n",
       "      <td>85251</td>\n",
       "    </tr>\n",
       "    <tr>\n",
       "      <th>4</th>\n",
       "      <td>w4LTZaO7mNbjkNxqJmmH3Q</td>\n",
       "      <td>https://www.yelp.com/biz/Circle-K-Scottsdale</td>\n",
       "      <td>Circle K</td>\n",
       "      <td>1</td>\n",
       "      <td>1</td>\n",
       "      <td>3410 N Hayden Rd</td>\n",
       "      <td>Scottsdale</td>\n",
       "      <td>AZ</td>\n",
       "      <td>85251</td>\n",
       "    </tr>\n",
       "  </tbody>\n",
       "</table>\n",
       "</div>"
      ],
      "text/plain": [
       "              business_id                                                url  \\\n",
       "0  CUUYW_p6UjItCOVR_Q0oQg           https://www.yelp.com/biz/Pure-Scottsdale   \n",
       "1  u2iiLNWXPDRa2atKiDWzpQ  https://www.yelp.com/biz/Sacred-Grounds-Jazz-C...   \n",
       "2  eGEJomznMqJYqGun2ZXRpg  https://www.yelp.com/biz/Salon-Tour-De-Force-S...   \n",
       "3  79V8osIXJft6FIixcnFRww  https://www.yelp.com/biz/El-Dorado-Apartments-...   \n",
       "4  w4LTZaO7mNbjkNxqJmmH3Q       https://www.yelp.com/biz/Circle-K-Scottsdale   \n",
       "\n",
       "                                    name open_precovid open_postcovid  \\\n",
       "0                              100% Pure             1             -1   \n",
       "1        Sacred Grounds Jazz Coffeehouse             1              1   \n",
       "2                    Salon Tour De Force             1              1   \n",
       "3  El Dorado Apartments - CAM Properties             0             -1   \n",
       "4                               Circle K             1              1   \n",
       "\n",
       "                         address        city state postal_code  \n",
       "0  7014 E Camelback Rd, Spc 2072  Scottsdale    AZ       85251  \n",
       "1         4425 N Granite Reef Rd  Scottsdale    AZ       85251  \n",
       "2                 7134 E 5th Ave  Scottsdale    AZ       85251  \n",
       "3                  6825 E 4th St  Scottsdale    AZ       85251  \n",
       "4               3410 N Hayden Rd  Scottsdale    AZ       85251  "
      ]
     },
     "execution_count": 4,
     "metadata": {},
     "output_type": "execute_result"
    }
   ],
   "source": [
    "df.head()"
   ]
  },
  {
   "cell_type": "code",
   "execution_count": 5,
   "metadata": {},
   "outputs": [
    {
     "data": {
      "text/plain": [
       "(17000, 9)"
      ]
     },
     "execution_count": 5,
     "metadata": {},
     "output_type": "execute_result"
    }
   ],
   "source": [
    "df.shape"
   ]
  },
  {
   "cell_type": "code",
   "execution_count": 6,
   "metadata": {},
   "outputs": [],
   "source": [
    "errors = df[df[\"open_postcovid\"] == -1]\n",
    "df = df[df[\"open_postcovid\"] != -1]"
   ]
  },
  {
   "cell_type": "code",
   "execution_count": 7,
   "metadata": {
    "scrolled": true
   },
   "outputs": [
    {
     "name": "stdout",
     "output_type": "stream",
     "text": [
      "okay: 15088\n",
      "errors: 1912\n",
      "error %: 11%\n"
     ]
    }
   ],
   "source": [
    "print(\"okay: \" + str(df.shape[0]))\n",
    "print(\"errors: \" + str(errors.shape[0]))\n",
    "print(\"error %: \" + str(int(errors.shape[0] / (df.shape[0] + errors.shape[0]) * 100)) + \"%\")"
   ]
  },
  {
   "cell_type": "code",
   "execution_count": 9,
   "metadata": {},
   "outputs": [
    {
     "name": "stdout",
     "output_type": "stream",
     "text": [
      "was open and stayed open: 11836 (78%)\n",
      "was open and then closed: 40 (0.3%)\n",
      "was closed and stayed closed: 75 (0.5%)\n",
      "was closed and then opened: 3137 (21%)\n"
     ]
    }
   ],
   "source": [
    "ct = pandas.crosstab(df[\"open_precovid\"], df[\"open_postcovid\"])\n",
    "print(\"was open and stayed open: \" + str(ct.loc[1][1]) + \" (\" + str(int(round(ct.loc[1][1] / df.shape[0] * 100))) + \"%)\")\n",
    "print(\"was open and then closed: \" + str(ct.loc[1][0]) + \" (\" + str(round(ct.loc[1][0] / df.shape[0] * 100, 1)) + \"%)\")\n",
    "print(\"was closed and stayed closed: \" + str(ct.loc[0][0]) + \" (\" + str(round(ct.loc[0][0] / df.shape[0] * 100, 1)) + \"%)\")\n",
    "print(\"was closed and then opened: \" + str(ct.loc[0][1]) + \" (\" + str(int(round(ct.loc[0][1] / df.shape[0] * 100))) + \"%)\")"
   ]
  },
  {
   "cell_type": "code",
   "execution_count": 10,
   "metadata": {},
   "outputs": [
    {
     "data": {
      "text/html": [
       "<div>\n",
       "<style scoped>\n",
       "    .dataframe tbody tr th:only-of-type {\n",
       "        vertical-align: middle;\n",
       "    }\n",
       "\n",
       "    .dataframe tbody tr th {\n",
       "        vertical-align: top;\n",
       "    }\n",
       "\n",
       "    .dataframe thead th {\n",
       "        text-align: right;\n",
       "    }\n",
       "</style>\n",
       "<table border=\"1\" class=\"dataframe\">\n",
       "  <thead>\n",
       "    <tr style=\"text-align: right;\">\n",
       "      <th></th>\n",
       "      <th>url</th>\n",
       "      <th>name</th>\n",
       "    </tr>\n",
       "  </thead>\n",
       "  <tbody>\n",
       "    <tr>\n",
       "      <th>0</th>\n",
       "      <td>https://www.yelp.com/biz/Pure-Scottsdale</td>\n",
       "      <td>100% Pure</td>\n",
       "    </tr>\n",
       "    <tr>\n",
       "      <th>3</th>\n",
       "      <td>https://www.yelp.com/biz/El-Dorado-Apartments-...</td>\n",
       "      <td>El Dorado Apartments - CAM Properties</td>\n",
       "    </tr>\n",
       "    <tr>\n",
       "      <th>5</th>\n",
       "      <td>https://www.yelp.com/biz/Sugar-Me-Wax--Scottsd...</td>\n",
       "      <td>Sugar Me Wax - Scottsdale</td>\n",
       "    </tr>\n",
       "    <tr>\n",
       "      <th>8</th>\n",
       "      <td>https://www.yelp.com/biz/Cin--Cin-Restaurant-S...</td>\n",
       "      <td>Cin-Cin Restaurant</td>\n",
       "    </tr>\n",
       "    <tr>\n",
       "      <th>15</th>\n",
       "      <td>https://www.yelp.com/biz/Sunsational-Swim-Scho...</td>\n",
       "      <td>Sunsational Swim School - Private Swim Lessons</td>\n",
       "    </tr>\n",
       "    <tr>\n",
       "      <th>...</th>\n",
       "      <td>...</td>\n",
       "      <td>...</td>\n",
       "    </tr>\n",
       "    <tr>\n",
       "      <th>104</th>\n",
       "      <td>https://www.yelp.com/biz/Roxanne-S-Couture-Sco...</td>\n",
       "      <td>Roxanne's Couture</td>\n",
       "    </tr>\n",
       "    <tr>\n",
       "      <th>118</th>\n",
       "      <td>https://www.yelp.com/biz/Mega1043-Scottsdale</td>\n",
       "      <td>Mega 104.3</td>\n",
       "    </tr>\n",
       "    <tr>\n",
       "      <th>130</th>\n",
       "      <td>https://www.yelp.com/biz/Russ-Lyon-Sotheby-S-I...</td>\n",
       "      <td>Russ Lyon Sotheby's International Realty</td>\n",
       "    </tr>\n",
       "    <tr>\n",
       "      <th>131</th>\n",
       "      <td>https://www.yelp.com/biz/Scottsdale-Children-S...</td>\n",
       "      <td>Scottsdale Children's Group</td>\n",
       "    </tr>\n",
       "    <tr>\n",
       "      <th>146</th>\n",
       "      <td>https://www.yelp.com/biz/Tony-S-Shoe-Repair-Sc...</td>\n",
       "      <td>Tony's Shoe Repair</td>\n",
       "    </tr>\n",
       "  </tbody>\n",
       "</table>\n",
       "<p>1912 rows × 2 columns</p>\n",
       "</div>"
      ],
      "text/plain": [
       "                                                   url  \\\n",
       "0             https://www.yelp.com/biz/Pure-Scottsdale   \n",
       "3    https://www.yelp.com/biz/El-Dorado-Apartments-...   \n",
       "5    https://www.yelp.com/biz/Sugar-Me-Wax--Scottsd...   \n",
       "8    https://www.yelp.com/biz/Cin--Cin-Restaurant-S...   \n",
       "15   https://www.yelp.com/biz/Sunsational-Swim-Scho...   \n",
       "..                                                 ...   \n",
       "104  https://www.yelp.com/biz/Roxanne-S-Couture-Sco...   \n",
       "118       https://www.yelp.com/biz/Mega1043-Scottsdale   \n",
       "130  https://www.yelp.com/biz/Russ-Lyon-Sotheby-S-I...   \n",
       "131  https://www.yelp.com/biz/Scottsdale-Children-S...   \n",
       "146  https://www.yelp.com/biz/Tony-S-Shoe-Repair-Sc...   \n",
       "\n",
       "                                               name  \n",
       "0                                         100% Pure  \n",
       "3             El Dorado Apartments - CAM Properties  \n",
       "5                         Sugar Me Wax - Scottsdale  \n",
       "8                                Cin-Cin Restaurant  \n",
       "15   Sunsational Swim School - Private Swim Lessons  \n",
       "..                                              ...  \n",
       "104                               Roxanne's Couture  \n",
       "118                                      Mega 104.3  \n",
       "130        Russ Lyon Sotheby's International Realty  \n",
       "131                     Scottsdale Children's Group  \n",
       "146                              Tony's Shoe Repair  \n",
       "\n",
       "[1912 rows x 2 columns]"
      ]
     },
     "execution_count": 10,
     "metadata": {},
     "output_type": "execute_result"
    }
   ],
   "source": [
    "errors[[\"url\", \"name\"]]"
   ]
  },
  {
   "cell_type": "code",
   "execution_count": 11,
   "metadata": {},
   "outputs": [
    {
     "data": {
      "text/html": [
       "<div>\n",
       "<style scoped>\n",
       "    .dataframe tbody tr th:only-of-type {\n",
       "        vertical-align: middle;\n",
       "    }\n",
       "\n",
       "    .dataframe tbody tr th {\n",
       "        vertical-align: top;\n",
       "    }\n",
       "\n",
       "    .dataframe thead th {\n",
       "        text-align: right;\n",
       "    }\n",
       "</style>\n",
       "<table border=\"1\" class=\"dataframe\">\n",
       "  <thead>\n",
       "    <tr style=\"text-align: right;\">\n",
       "      <th></th>\n",
       "      <th></th>\n",
       "      <th>business_id</th>\n",
       "      <th>url</th>\n",
       "      <th>name</th>\n",
       "      <th>open_precovid</th>\n",
       "      <th>open_postcovid</th>\n",
       "      <th>address</th>\n",
       "      <th>city</th>\n",
       "    </tr>\n",
       "    <tr>\n",
       "      <th>state</th>\n",
       "      <th>postal_code</th>\n",
       "      <th></th>\n",
       "      <th></th>\n",
       "      <th></th>\n",
       "      <th></th>\n",
       "      <th></th>\n",
       "      <th></th>\n",
       "      <th></th>\n",
       "    </tr>\n",
       "  </thead>\n",
       "  <tbody>\n",
       "    <tr>\n",
       "      <th rowspan=\"12\" valign=\"top\">AZ</th>\n",
       "      <th>85004</th>\n",
       "      <td>274</td>\n",
       "      <td>274</td>\n",
       "      <td>274</td>\n",
       "      <td>274</td>\n",
       "      <td>274</td>\n",
       "      <td>265</td>\n",
       "      <td>274</td>\n",
       "    </tr>\n",
       "    <tr>\n",
       "      <th>85202</th>\n",
       "      <td>660</td>\n",
       "      <td>660</td>\n",
       "      <td>660</td>\n",
       "      <td>660</td>\n",
       "      <td>660</td>\n",
       "      <td>633</td>\n",
       "      <td>660</td>\n",
       "    </tr>\n",
       "    <tr>\n",
       "      <th>85206</th>\n",
       "      <td>268</td>\n",
       "      <td>268</td>\n",
       "      <td>268</td>\n",
       "      <td>268</td>\n",
       "      <td>268</td>\n",
       "      <td>255</td>\n",
       "      <td>268</td>\n",
       "    </tr>\n",
       "    <tr>\n",
       "      <th>85224</th>\n",
       "      <td>786</td>\n",
       "      <td>786</td>\n",
       "      <td>786</td>\n",
       "      <td>786</td>\n",
       "      <td>786</td>\n",
       "      <td>723</td>\n",
       "      <td>786</td>\n",
       "    </tr>\n",
       "    <tr>\n",
       "      <th>85226</th>\n",
       "      <td>567</td>\n",
       "      <td>567</td>\n",
       "      <td>567</td>\n",
       "      <td>567</td>\n",
       "      <td>567</td>\n",
       "      <td>547</td>\n",
       "      <td>567</td>\n",
       "    </tr>\n",
       "    <tr>\n",
       "      <th>85233</th>\n",
       "      <td>681</td>\n",
       "      <td>681</td>\n",
       "      <td>681</td>\n",
       "      <td>681</td>\n",
       "      <td>681</td>\n",
       "      <td>631</td>\n",
       "      <td>681</td>\n",
       "    </tr>\n",
       "    <tr>\n",
       "      <th>85234</th>\n",
       "      <td>689</td>\n",
       "      <td>689</td>\n",
       "      <td>689</td>\n",
       "      <td>689</td>\n",
       "      <td>689</td>\n",
       "      <td>625</td>\n",
       "      <td>689</td>\n",
       "    </tr>\n",
       "    <tr>\n",
       "      <th>85251</th>\n",
       "      <td>1892</td>\n",
       "      <td>1892</td>\n",
       "      <td>1892</td>\n",
       "      <td>1892</td>\n",
       "      <td>1892</td>\n",
       "      <td>1796</td>\n",
       "      <td>1892</td>\n",
       "    </tr>\n",
       "    <tr>\n",
       "      <th>85258</th>\n",
       "      <td>679</td>\n",
       "      <td>679</td>\n",
       "      <td>679</td>\n",
       "      <td>679</td>\n",
       "      <td>679</td>\n",
       "      <td>648</td>\n",
       "      <td>679</td>\n",
       "    </tr>\n",
       "    <tr>\n",
       "      <th>85260</th>\n",
       "      <td>1737</td>\n",
       "      <td>1737</td>\n",
       "      <td>1737</td>\n",
       "      <td>1737</td>\n",
       "      <td>1737</td>\n",
       "      <td>1667</td>\n",
       "      <td>1737</td>\n",
       "    </tr>\n",
       "    <tr>\n",
       "      <th>85283</th>\n",
       "      <td>624</td>\n",
       "      <td>624</td>\n",
       "      <td>624</td>\n",
       "      <td>624</td>\n",
       "      <td>624</td>\n",
       "      <td>592</td>\n",
       "      <td>624</td>\n",
       "    </tr>\n",
       "    <tr>\n",
       "      <th>85301</th>\n",
       "      <td>561</td>\n",
       "      <td>561</td>\n",
       "      <td>561</td>\n",
       "      <td>561</td>\n",
       "      <td>561</td>\n",
       "      <td>527</td>\n",
       "      <td>561</td>\n",
       "    </tr>\n",
       "    <tr>\n",
       "      <th>NC</th>\n",
       "      <th>28202</th>\n",
       "      <td>631</td>\n",
       "      <td>631</td>\n",
       "      <td>631</td>\n",
       "      <td>631</td>\n",
       "      <td>631</td>\n",
       "      <td>600</td>\n",
       "      <td>631</td>\n",
       "    </tr>\n",
       "    <tr>\n",
       "      <th rowspan=\"5\" valign=\"top\">NV</th>\n",
       "      <th>89052</th>\n",
       "      <td>1296</td>\n",
       "      <td>1296</td>\n",
       "      <td>1296</td>\n",
       "      <td>1296</td>\n",
       "      <td>1296</td>\n",
       "      <td>1249</td>\n",
       "      <td>1296</td>\n",
       "    </tr>\n",
       "    <tr>\n",
       "      <th>89101</th>\n",
       "      <td>1266</td>\n",
       "      <td>1266</td>\n",
       "      <td>1266</td>\n",
       "      <td>1266</td>\n",
       "      <td>1266</td>\n",
       "      <td>1094</td>\n",
       "      <td>1266</td>\n",
       "    </tr>\n",
       "    <tr>\n",
       "      <th>89102</th>\n",
       "      <td>688</td>\n",
       "      <td>688</td>\n",
       "      <td>688</td>\n",
       "      <td>688</td>\n",
       "      <td>688</td>\n",
       "      <td>671</td>\n",
       "      <td>688</td>\n",
       "    </tr>\n",
       "    <tr>\n",
       "      <th>89117</th>\n",
       "      <td>489</td>\n",
       "      <td>489</td>\n",
       "      <td>489</td>\n",
       "      <td>489</td>\n",
       "      <td>489</td>\n",
       "      <td>467</td>\n",
       "      <td>489</td>\n",
       "    </tr>\n",
       "    <tr>\n",
       "      <th>89123</th>\n",
       "      <td>1299</td>\n",
       "      <td>1299</td>\n",
       "      <td>1299</td>\n",
       "      <td>1299</td>\n",
       "      <td>1299</td>\n",
       "      <td>1216</td>\n",
       "      <td>1299</td>\n",
       "    </tr>\n",
       "    <tr>\n",
       "      <th>SC</th>\n",
       "      <th>28202</th>\n",
       "      <td>1</td>\n",
       "      <td>1</td>\n",
       "      <td>1</td>\n",
       "      <td>1</td>\n",
       "      <td>1</td>\n",
       "      <td>1</td>\n",
       "      <td>1</td>\n",
       "    </tr>\n",
       "  </tbody>\n",
       "</table>\n",
       "</div>"
      ],
      "text/plain": [
       "                   business_id   url  name  open_precovid  open_postcovid  \\\n",
       "state postal_code                                                           \n",
       "AZ    85004                274   274   274            274             274   \n",
       "      85202                660   660   660            660             660   \n",
       "      85206                268   268   268            268             268   \n",
       "      85224                786   786   786            786             786   \n",
       "      85226                567   567   567            567             567   \n",
       "      85233                681   681   681            681             681   \n",
       "      85234                689   689   689            689             689   \n",
       "      85251               1892  1892  1892           1892            1892   \n",
       "      85258                679   679   679            679             679   \n",
       "      85260               1737  1737  1737           1737            1737   \n",
       "      85283                624   624   624            624             624   \n",
       "      85301                561   561   561            561             561   \n",
       "NC    28202                631   631   631            631             631   \n",
       "NV    89052               1296  1296  1296           1296            1296   \n",
       "      89101               1266  1266  1266           1266            1266   \n",
       "      89102                688   688   688            688             688   \n",
       "      89117                489   489   489            489             489   \n",
       "      89123               1299  1299  1299           1299            1299   \n",
       "SC    28202                  1     1     1              1               1   \n",
       "\n",
       "                   address  city  \n",
       "state postal_code                 \n",
       "AZ    85004            265   274  \n",
       "      85202            633   660  \n",
       "      85206            255   268  \n",
       "      85224            723   786  \n",
       "      85226            547   567  \n",
       "      85233            631   681  \n",
       "      85234            625   689  \n",
       "      85251           1796  1892  \n",
       "      85258            648   679  \n",
       "      85260           1667  1737  \n",
       "      85283            592   624  \n",
       "      85301            527   561  \n",
       "NC    28202            600   631  \n",
       "NV    89052           1249  1296  \n",
       "      89101           1094  1266  \n",
       "      89102            671   688  \n",
       "      89117            467   489  \n",
       "      89123           1216  1299  \n",
       "SC    28202              1     1  "
      ]
     },
     "execution_count": 11,
     "metadata": {},
     "output_type": "execute_result"
    }
   ],
   "source": [
    "df.groupby([\"state\", \"postal_code\"]).count()"
   ]
  },
  {
   "cell_type": "code",
   "execution_count": 12,
   "metadata": {},
   "outputs": [
    {
     "data": {
      "text/plain": [
       "18"
      ]
     },
     "execution_count": 12,
     "metadata": {},
     "output_type": "execute_result"
    }
   ],
   "source": [
    "len(df[\"postal_code\"].unique())"
   ]
  },
  {
   "cell_type": "code",
   "execution_count": 13,
   "metadata": {},
   "outputs": [],
   "source": [
    "# removes zips with insufficient number of businesses\n",
    "df = df[df[\"postal_code\"] != 28202]"
   ]
  },
  {
   "cell_type": "code",
   "execution_count": 14,
   "metadata": {},
   "outputs": [],
   "source": [
    "df_agg = df[[\"postal_code\"]].groupby(\"postal_code\").count()"
   ]
  },
  {
   "cell_type": "code",
   "execution_count": 15,
   "metadata": {},
   "outputs": [],
   "source": [
    "df_agg[\"n_businesses\"] = df.groupby(\"postal_code\")[\"business_id\"].count()\n",
    "df_agg[\"open_precovid\"] = df.groupby(\"postal_code\")[\"open_precovid\"].sum()\n",
    "df_agg[\"open_postcovid\"] = df.groupby(\"postal_code\")[\"open_postcovid\"].sum()"
   ]
  },
  {
   "cell_type": "code",
   "execution_count": 16,
   "metadata": {},
   "outputs": [],
   "source": [
    "df_agg[\"perc_open_precovid\"] = df_agg[\"open_precovid\"] / df_agg[\"n_businesses\"]\n",
    "df_agg[\"perc_open_postcovid\"] = df_agg[\"open_postcovid\"] / df_agg[\"n_businesses\"]"
   ]
  },
  {
   "cell_type": "code",
   "execution_count": 17,
   "metadata": {},
   "outputs": [],
   "source": [
    "df_agg[\"perc_open_abschange\"] = df_agg[\"perc_open_postcovid\"] - df_agg[\"perc_open_precovid\"]\n",
    "df_agg[\"perc_open_relchaneg\"] = (df_agg[\"perc_open_postcovid\"] - df_agg[\"perc_open_precovid\"]) / df_agg[\"perc_open_precovid\"]"
   ]
  },
  {
   "cell_type": "code",
   "execution_count": 18,
   "metadata": {},
   "outputs": [
    {
     "ename": "ValueError",
     "evalue": "The truth value of a Series is ambiguous. Use a.empty, a.bool(), a.item(), a.any() or a.all().",
     "output_type": "error",
     "traceback": [
      "\u001b[1;31m---------------------------------------------------------------------------\u001b[0m",
      "\u001b[1;31mValueError\u001b[0m                                Traceback (most recent call last)",
      "\u001b[1;32m<ipython-input-18-0682e08cdd3f>\u001b[0m in \u001b[0;36m<module>\u001b[1;34m\u001b[0m\n\u001b[1;32m----> 1\u001b[1;33m \u001b[0mdf\u001b[0m\u001b[1;33m[\u001b[0m\u001b[1;34m\"stayed_open\"\u001b[0m\u001b[1;33m]\u001b[0m \u001b[1;33m=\u001b[0m \u001b[0mnumpy\u001b[0m\u001b[1;33m.\u001b[0m\u001b[0mwhere\u001b[0m\u001b[1;33m(\u001b[0m\u001b[1;33m[\u001b[0m\u001b[0mdf\u001b[0m\u001b[1;33m[\u001b[0m\u001b[1;34m\"open_precovid\"\u001b[0m\u001b[1;33m]\u001b[0m \u001b[1;33m==\u001b[0m \u001b[1;36m1\u001b[0m \u001b[1;33m&\u001b[0m \u001b[0mdf\u001b[0m\u001b[1;33m[\u001b[0m\u001b[1;34m\"open_postcovid\"\u001b[0m\u001b[1;33m]\u001b[0m \u001b[1;33m==\u001b[0m \u001b[1;36m1\u001b[0m\u001b[1;33m]\u001b[0m\u001b[1;33m,\u001b[0m \u001b[1;32mTrue\u001b[0m\u001b[1;33m,\u001b[0m \u001b[1;32mFalse\u001b[0m\u001b[1;33m)\u001b[0m\u001b[1;33m\u001b[0m\u001b[1;33m\u001b[0m\u001b[0m\n\u001b[0m",
      "\u001b[1;32m~\\Anaconda3\\lib\\site-packages\\pandas\\core\\generic.py\u001b[0m in \u001b[0;36m__nonzero__\u001b[1;34m(self)\u001b[0m\n\u001b[0;32m   1477\u001b[0m     \u001b[1;32mdef\u001b[0m \u001b[0m__nonzero__\u001b[0m\u001b[1;33m(\u001b[0m\u001b[0mself\u001b[0m\u001b[1;33m)\u001b[0m\u001b[1;33m:\u001b[0m\u001b[1;33m\u001b[0m\u001b[1;33m\u001b[0m\u001b[0m\n\u001b[0;32m   1478\u001b[0m         raise ValueError(\n\u001b[1;32m-> 1479\u001b[1;33m             \u001b[1;34mf\"The truth value of a {type(self).__name__} is ambiguous. \"\u001b[0m\u001b[1;33m\u001b[0m\u001b[1;33m\u001b[0m\u001b[0m\n\u001b[0m\u001b[0;32m   1480\u001b[0m             \u001b[1;34m\"Use a.empty, a.bool(), a.item(), a.any() or a.all().\"\u001b[0m\u001b[1;33m\u001b[0m\u001b[1;33m\u001b[0m\u001b[0m\n\u001b[0;32m   1481\u001b[0m         )\n",
      "\u001b[1;31mValueError\u001b[0m: The truth value of a Series is ambiguous. Use a.empty, a.bool(), a.item(), a.any() or a.all()."
     ]
    }
   ],
   "source": [
    "df[\"stayed_open\"] = numpy.where([df[\"open_precovid\"] == 1 & df[\"open_postcovid\"] == 1], True, False)"
   ]
  },
  {
   "cell_type": "code",
   "execution_count": 62,
   "metadata": {},
   "outputs": [
    {
     "data": {
      "text/plain": [
       "<matplotlib.axes._subplots.AxesSubplot at 0x180b3728148>"
      ]
     },
     "execution_count": 62,
     "metadata": {},
     "output_type": "execute_result"
    },
    {
     "data": {
      "image/png": "[encoded data removed]",
      "text/plain": [
       "<Figure size 432x288 with 2 Axes>"
      ]
     },
     "metadata": {
      "needs_background": "light"
     },
     "output_type": "display_data"
    }
   ],
   "source": [
    "seaborn.heatmap(df_agg.corr())"
   ]
  },
  {
   "cell_type": "code",
   "execution_count": null,
   "metadata": {},
   "outputs": [],
   "source": []
  }
 ],
 "metadata": {
  "kernelspec": {
   "display_name": "Python 3",
   "language": "python",
   "name": "python3"
  },
  "language_info": {
   "codemirror_mode": {
    "name": "ipython",
    "version": 3
   },
   "file_extension": ".py",
   "mimetype": "text/x-python",
   "name": "python",
   "nbconvert_exporter": "python",
   "pygments_lexer": "ipython3",
   "version": "3.7.7"
  }
 },
 "nbformat": 4,
 "nbformat_minor": 4
}
