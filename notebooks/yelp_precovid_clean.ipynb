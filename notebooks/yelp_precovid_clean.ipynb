{
 "cells": [
  {
   "cell_type": "code",
   "execution_count": 204,
   "metadata": {},
   "outputs": [],
   "source": [
    "import pandas as pd"
   ]
  },
  {
   "cell_type": "code",
   "execution_count": 205,
   "metadata": {},
   "outputs": [],
   "source": [
    "# read in the dataset\n",
    "# change the filepath to the location of yelp_academic_dataset_business.json on your local machine\n",
    "# this file is too big to upload to github, so if you need to download it you can do so here: https://www.yelp.com/dataset\n",
    "yelp_precovid = pd.read_json(\"data/yelp_academic_dataset_business.json\", lines=True)"
   ]
  },
  {
   "cell_type": "code",
   "execution_count": 206,
   "metadata": {},
   "outputs": [
    {
     "data": {
      "text/plain": [
       "(209393, 14)"
      ]
     },
     "execution_count": 206,
     "metadata": {},
     "output_type": "execute_result"
    }
   ],
   "source": [
    "# original yelp dataset has 209,393 records\n",
    "yelp_precovid.shape"
   ]
  },
  {
   "cell_type": "code",
   "execution_count": 207,
   "metadata": {},
   "outputs": [],
   "source": [
    "# subset the data to only the eight states with a sufficient number of businesses\n",
    "states = [\"AZ\", \"IL\", \"NC\", \"NV\", \"OH\", \"PA\", \"SC\", \"WI\"]\n",
    "yelp_precovid = yelp_precovid[yelp_precovid[\"state\"].isin(states)]"
   ]
  },
  {
   "cell_type": "code",
   "execution_count": 208,
   "metadata": {},
   "outputs": [
    {
     "data": {
      "text/plain": [
       "(153760, 14)"
      ]
     },
     "execution_count": 208,
     "metadata": {},
     "output_type": "execute_result"
    }
   ],
   "source": [
    "# after subsetting to the eight states: 153,760 records\n",
    "# removed 55,633 records\n",
    "yelp_precovid.shape"
   ]
  },
  {
   "cell_type": "code",
   "execution_count": 209,
   "metadata": {},
   "outputs": [],
   "source": [
    "# remove rows with missing postal code\n",
    "yelp_precovid = yelp_precovid[yelp_precovid[\"postal_code\"] != \"\"]"
   ]
  },
  {
   "cell_type": "code",
   "execution_count": 210,
   "metadata": {},
   "outputs": [],
   "source": [
    "# generate a dataframe of zip codes in the yelp data\n",
    "yelp_zips = yelp_precovid.rename({\"business_id\": \"precovid_count\"}, axis = \"columns\").groupby([\"postal_code\"]).count()[\"precovid_count\"]\n",
    "yelp_zips = pd.DataFrame(yelp_zips)\n",
    "# subset to only zip codes with at least 50 yelp businesses\n",
    "yelp_zips = yelp_zips[yelp_zips[\"precovid_count\"] > 50]"
   ]
  },
  {
   "cell_type": "code",
   "execution_count": 211,
   "metadata": {},
   "outputs": [],
   "source": [
    "# subset the yelp dataset to only the zip codes with at least 50 yelp businesses\n",
    "yelp_precovid = yelp_precovid[yelp_precovid[\"postal_code\"].isin(yelp_zips.index.values)]\n",
    "# write out precovid yelp csv for reference\n",
    "yelp_precovid.to_csv(\"data/yelp_precovid.csv\")"
   ]
  },
  {
   "cell_type": "code",
   "execution_count": 212,
   "metadata": {},
   "outputs": [
    {
     "data": {
      "text/plain": [
       "(149766, 14)"
      ]
     },
     "execution_count": 212,
     "metadata": {},
     "output_type": "execute_result"
    }
   ],
   "source": [
    "# after subsetting to the zip codes with at least 50 businesses: 149,766 records\n",
    "# removed 3994 records\n",
    "yelp_precovid.shape"
   ]
  },
  {
   "cell_type": "code",
   "execution_count": 213,
   "metadata": {},
   "outputs": [],
   "source": [
    "# add the number of open businesses to the yelp_zips data\n",
    "yelp_zips = yelp_zips.join(pd.DataFrame(yelp_precovid.groupby([\"postal_code\"])[\"is_open\"].sum())).rename({\"is_open\": \"precovid_open\"}, axis = \"columns\")"
   ]
  },
  {
   "cell_type": "code",
   "execution_count": 214,
   "metadata": {},
   "outputs": [],
   "source": [
    "# write out yelp zip csv for reference\n",
    "yelp_zips.to_csv(\"data/yelp_zips.csv\")"
   ]
  }
 ],
 "metadata": {
  "kernelspec": {
   "display_name": "Python 3",
   "language": "python",
   "name": "python3"
  },
  "language_info": {
   "codemirror_mode": {
    "name": "ipython",
    "version": 3
   },
   "file_extension": ".py",
   "mimetype": "text/x-python",
   "name": "python",
   "nbconvert_exporter": "python",
   "pygments_lexer": "ipython3",
   "version": "3.7.7"
  }
 },
 "nbformat": 4,
 "nbformat_minor": 4
}
