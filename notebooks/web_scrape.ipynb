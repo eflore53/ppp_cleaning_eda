{
  "nbformat": 4,
  "nbformat_minor": 0,
  "metadata": {
    "kernelspec": {
      "display_name": "Python 3",
      "language": "python",
      "name": "python3"
    },
    "language_info": {
      "codemirror_mode": {
        "name": "ipython",
        "version": 3
      },
      "file_extension": ".py",
      "mimetype": "text/x-python",
      "name": "python",
      "nbconvert_exporter": "python",
      "pygments_lexer": "ipython3",
      "version": "3.7.4"
    },
    "colab": {
      "name": "web_scrape.ipynb",
      "provenance": [],
      "collapsed_sections": []
    }
  },
  "cells": [
    {
      "cell_type": "code",
      "metadata": {
        "id": "SQ4O3pa3CV-E"
      },
      "source": [
        "import pandas as pd\n",
        "import re\n",
        "import requests \n",
        "from bs4 import BeautifulSoup \n",
        "import time \n",
        "import random"
      ],
      "execution_count": 6,
      "outputs": []
    },
    {
      "cell_type": "code",
      "metadata": {
        "colab": {
          "base_uri": "https://localhost:8080/",
          "height": 215
        },
        "id": "kWdRlEdPxfM_",
        "outputId": "6baf36e8-0154-4d50-818e-c85f18375353"
      },
      "source": [
        "# Read in data from github\n",
        "PATH = \"https://raw.githubusercontent.com/ppp-ds4a/ppp_cleaning_eda/main/data/web_scrape_names.csv\"\n",
        "df = pd.read_csv(PATH, index_col=\"Unnamed: 0\")\n",
        "print(df.shape)\n",
        "df.head(5)"
      ],
      "execution_count": 7,
      "outputs": [
        {
          "output_type": "stream",
          "text": [
            "(209393, 3)\n"
          ],
          "name": "stdout"
        },
        {
          "output_type": "execute_result",
          "data": {
            "text/html": [
              "<div>\n",
              "<style scoped>\n",
              "    .dataframe tbody tr th:only-of-type {\n",
              "        vertical-align: middle;\n",
              "    }\n",
              "\n",
              "    .dataframe tbody tr th {\n",
              "        vertical-align: top;\n",
              "    }\n",
              "\n",
              "    .dataframe thead th {\n",
              "        text-align: right;\n",
              "    }\n",
              "</style>\n",
              "<table border=\"1\" class=\"dataframe\">\n",
              "  <thead>\n",
              "    <tr style=\"text-align: right;\">\n",
              "      <th></th>\n",
              "      <th>name</th>\n",
              "      <th>city</th>\n",
              "      <th>combined</th>\n",
              "    </tr>\n",
              "  </thead>\n",
              "  <tbody>\n",
              "    <tr>\n",
              "      <th>0</th>\n",
              "      <td>The Range At Lake Norman</td>\n",
              "      <td>Cornelius</td>\n",
              "      <td>The Range At Lake Norman Cornelius</td>\n",
              "    </tr>\n",
              "    <tr>\n",
              "      <th>1</th>\n",
              "      <td>Carlos Santo, NMD</td>\n",
              "      <td>Scottsdale</td>\n",
              "      <td>Carlos Santo, NMD Scottsdale</td>\n",
              "    </tr>\n",
              "    <tr>\n",
              "      <th>2</th>\n",
              "      <td>Felinus</td>\n",
              "      <td>Montreal</td>\n",
              "      <td>Felinus Montreal</td>\n",
              "    </tr>\n",
              "    <tr>\n",
              "      <th>3</th>\n",
              "      <td>Nevada House of Hose</td>\n",
              "      <td>North Las Vegas</td>\n",
              "      <td>Nevada House of Hose North Las Vegas</td>\n",
              "    </tr>\n",
              "    <tr>\n",
              "      <th>4</th>\n",
              "      <td>USE MY GUY SERVICES LLC</td>\n",
              "      <td>Mesa</td>\n",
              "      <td>USE MY GUY SERVICES LLC Mesa</td>\n",
              "    </tr>\n",
              "  </tbody>\n",
              "</table>\n",
              "</div>"
            ],
            "text/plain": [
              "                       name  ...                              combined\n",
              "0  The Range At Lake Norman  ...    The Range At Lake Norman Cornelius\n",
              "1         Carlos Santo, NMD  ...          Carlos Santo, NMD Scottsdale\n",
              "2                   Felinus  ...                      Felinus Montreal\n",
              "3      Nevada House of Hose  ...  Nevada House of Hose North Las Vegas\n",
              "4   USE MY GUY SERVICES LLC  ...          USE MY GUY SERVICES LLC Mesa\n",
              "\n",
              "[5 rows x 3 columns]"
            ]
          },
          "metadata": {
            "tags": []
          },
          "execution_count": 7
        }
      ]
    },
    {
      "cell_type": "markdown",
      "metadata": {
        "id": "SbFKl0gfPnEC"
      },
      "source": [
        "### Using Regex to clean strings\n",
        "\n",
        "- Traditional pandas methods and built-in python functions cannot clean the text appropriately\n",
        "- Using multiple regular expressions can help filter text based on text patterns\n",
        "- 200 status codes mean OK\n",
        "\n",
        "##### [Regular Expression Docs](https://docs.python.org/3/library/re.html#module-re)\n",
        "\n",
        "##### [List of HTTPS Status Codes](https://en.wikipedia.org/wiki/List_of_HTTP_status_codes)"
      ]
    },
    {
      "cell_type": "code",
      "metadata": {
        "id": "4QhUnJonV4Bj"
      },
      "source": [
        "# Pandas apply function for cleaning text\n",
        "\n",
        "def regex_clean(x):\n",
        "    \"\"\"\n",
        "    Text cleaner for removing unwanted chars and replacing with appropriate chars\n",
        "    \"\"\"\n",
        "\n",
        "    x = x.title()\n",
        "\n",
        "    # Patterns\n",
        "    pat1 = '[&]' # replace '&' with 'And'\n",
        "    pat2 = \"[' . / - ` , _]\" #chars to remove\n",
        "\n",
        "    # Regex substitution\n",
        "    x = re.sub(pat1, \"And\", x)\n",
        "    x = re.sub(pat2, \"\", x)\n",
        "\n",
        "    # Split by uppercase letter then join with hyphen\n",
        "    x = \"-\".join(re.findall('[A-Z][^A-Z]*', x))\n",
        "\n",
        "    return \"https://www.yelp.com/biz/\" + x"
      ],
      "execution_count": 8,
      "outputs": []
    },
    {
      "cell_type": "code",
      "metadata": {
        "colab": {
          "base_uri": "https://localhost:8080/"
        },
        "id": "RCZFLq6z0TkR",
        "outputId": "8b1a2a5e-1878-472d-f9b5-9741d2eb2d67"
      },
      "source": [
        "%%time\n",
        "\n",
        "# FUNCTION TEST\n",
        "\n",
        "# Change to adjust sample size of test\n",
        "SAMPLE_SIZE = 385\n",
        "\n",
        "# Return a list of random samples from \"combined\" column\n",
        "sample = [x for x in df.sample(SAMPLE_SIZE)[\"combined\"]]\n",
        "\n",
        "# Collect results for statistic estimation\n",
        "response_dict = {}\n",
        "\n",
        "# loop through samples and clean\n",
        "for x in range(len(sample)):\n",
        "\n",
        "    r = requests.get(regex_clean(sample[x]))\n",
        "\n",
        "    # print(r)\n",
        "    # print(regex_clean(sample[x]), \"\\n\")\n",
        "\n",
        "    if str(r) not in response_dict:\n",
        "        response_dict[str(r)] = 1\n",
        "    elif str(r) in response_dict:\n",
        "        response_dict[str(r)] += 1\n",
        "    time.sleep(random.randint(4,7)) # pause execution for random interval between 3-7 seconds\n",
        "\n",
        " # Response 200 is good "
      ],
      "execution_count": 22,
      "outputs": [
        {
          "output_type": "stream",
          "text": [
            "CPU times: user 5.78 s, sys: 446 ms, total: 6.22 s\n",
            "Wall time: 43min 10s\n"
          ],
          "name": "stdout"
        }
      ]
    },
    {
      "cell_type": "markdown",
      "metadata": {
        "id": "3SFWV-xoIc15"
      },
      "source": [
        "\n",
        "Reponse 503 means overloaded service and the halt is temporary.  "
      ]
    },
    {
      "cell_type": "code",
      "metadata": {
        "colab": {
          "base_uri": "https://localhost:8080/"
        },
        "id": "lHKf4siNJwt5",
        "outputId": "bed0dc7d-1f8f-49eb-88e9-09caefaac3fd"
      },
      "source": [
        "stat_val = response_dict['<Response [200]>'] / sum(response_dict.values())\n",
        "\n",
        "print(f\"Reponse Dictionary: {response_dict}\")\n",
        "print(f\"Average 'Reponse 200' over 385 samples: {stat_val}\")"
      ],
      "execution_count": 23,
      "outputs": [
        {
          "output_type": "stream",
          "text": [
            "Reponse Dictionary: {'<Response [200]>': 168, '<Response [404]>': 38, '<Response [503]>': 179}\n",
            "Average 'Reponse 200' over 385 samples: 0.43636363636363634\n"
          ],
          "name": "stdout"
        }
      ]
    },
    {
      "cell_type": "markdown",
      "metadata": {
        "id": "2bJa2R0_t5ko"
      },
      "source": [
        "### How many unique URL's\n",
        "\n",
        "- Lower number of URL than number of original shape could be due too multiple places have the same web address like Franchises, Multiple locations, same owners, etc..."
      ]
    },
    {
      "cell_type": "code",
      "metadata": {
        "colab": {
          "base_uri": "https://localhost:8080/"
        },
        "id": "asCkwOhpsqLO",
        "outputId": "3121c85c-94ce-488c-a4ce-a7cfe5013488"
      },
      "source": [
        "# How many unique addresses\n",
        "df[\"combined\"].apply(regex_clean).nunique()"
      ],
      "execution_count": null,
      "outputs": [
        {
          "output_type": "execute_result",
          "data": {
            "text/plain": [
              "183044"
            ]
          },
          "metadata": {
            "tags": []
          },
          "execution_count": 5
        }
      ]
    },
    {
      "cell_type": "markdown",
      "metadata": {
        "id": "eaxfAWjevic7"
      },
      "source": [
        "### Identify Closed Banners on yelp pages\n",
        "\n",
        "- Create functionality that looks for a closed banner determined by users and return a 0 or 1 based on whether the business is closed or open.\n",
        "\n",
        "<p align=\"center\">\n",
        "  <img width=\"500\" height=\"400\" src=\"https://imgur.com/P1hZDTY.png\">\n",
        "</p>"
      ]
    },
    {
      "cell_type": "code",
      "metadata": {
        "id": "RnCXCjQrbJ9u"
      },
      "source": [
        "# closed example URL: https://www.yelp.com/biz/skin-factory-tattoo-and-body-piercing-las-vegas\n",
        "\n",
        "# possible xpath for closed places\n",
        "# //*[@id=\"wrap\"]/div[3]/yelp-react-root/div/div[4]/div/div/div[1]/section[2]/div"
      ],
      "execution_count": null,
      "outputs": []
    },
    {
      "cell_type": "markdown",
      "metadata": {
        "id": "CIojqFVRxfve"
      },
      "source": [
        "### Notes"
      ]
    },
    {
      "cell_type": "code",
      "metadata": {
        "id": "1lphpb2dCV-I"
      },
      "source": [
        "# Read in data\n",
        "yelp_business_path = \"../data/yelp_dataset/yelp_academic_dataset_business.json\"\n",
        "yelp_b_df = pd.read_json(yelp_business_path, lines=True)"
      ],
      "execution_count": null,
      "outputs": []
    },
    {
      "cell_type": "code",
      "metadata": {
        "id": "kMIuUCfiCV-J",
        "outputId": "5de542cd-97df-4e26-a623-4e61ebbd78b6"
      },
      "source": [
        "# Concat name and city together\n",
        "df = yelp_b_df[[\"name\", \"city\"]].copy()\n",
        "df[\"combined\"] = yelp_b_df[\"name\"] + \" \" + yelp_b_df[\"city\"]\n",
        "\n",
        "# This is the function for stripping values that we are working on\n",
        "df[\"combined\"] = df[\"combined\"].str.strip(\".-,\")\n",
        "df.head()"
      ],
      "execution_count": null,
      "outputs": [
        {
          "output_type": "execute_result",
          "data": {
            "text/html": [
              "<div>\n",
              "<style scoped>\n",
              "    .dataframe tbody tr th:only-of-type {\n",
              "        vertical-align: middle;\n",
              "    }\n",
              "\n",
              "    .dataframe tbody tr th {\n",
              "        vertical-align: top;\n",
              "    }\n",
              "\n",
              "    .dataframe thead th {\n",
              "        text-align: right;\n",
              "    }\n",
              "</style>\n",
              "<table border=\"1\" class=\"dataframe\">\n",
              "  <thead>\n",
              "    <tr style=\"text-align: right;\">\n",
              "      <th></th>\n",
              "      <th>name</th>\n",
              "      <th>city</th>\n",
              "      <th>combined</th>\n",
              "    </tr>\n",
              "  </thead>\n",
              "  <tbody>\n",
              "    <tr>\n",
              "      <th>0</th>\n",
              "      <td>The Range At Lake Norman</td>\n",
              "      <td>Cornelius</td>\n",
              "      <td>The Range At Lake Norman Cornelius</td>\n",
              "    </tr>\n",
              "    <tr>\n",
              "      <th>1</th>\n",
              "      <td>Carlos Santo, NMD</td>\n",
              "      <td>Scottsdale</td>\n",
              "      <td>Carlos Santo, NMD Scottsdale</td>\n",
              "    </tr>\n",
              "    <tr>\n",
              "      <th>2</th>\n",
              "      <td>Felinus</td>\n",
              "      <td>Montreal</td>\n",
              "      <td>Felinus Montreal</td>\n",
              "    </tr>\n",
              "    <tr>\n",
              "      <th>3</th>\n",
              "      <td>Nevada House of Hose</td>\n",
              "      <td>North Las Vegas</td>\n",
              "      <td>Nevada House of Hose North Las Vegas</td>\n",
              "    </tr>\n",
              "    <tr>\n",
              "      <th>4</th>\n",
              "      <td>USE MY GUY SERVICES LLC</td>\n",
              "      <td>Mesa</td>\n",
              "      <td>USE MY GUY SERVICES LLC Mesa</td>\n",
              "    </tr>\n",
              "  </tbody>\n",
              "</table>\n",
              "</div>"
            ],
            "text/plain": [
              "                       name             city  \\\n",
              "0  The Range At Lake Norman        Cornelius   \n",
              "1         Carlos Santo, NMD       Scottsdale   \n",
              "2                   Felinus         Montreal   \n",
              "3      Nevada House of Hose  North Las Vegas   \n",
              "4   USE MY GUY SERVICES LLC             Mesa   \n",
              "\n",
              "                               combined  \n",
              "0    The Range At Lake Norman Cornelius  \n",
              "1          Carlos Santo, NMD Scottsdale  \n",
              "2                      Felinus Montreal  \n",
              "3  Nevada House of Hose North Las Vegas  \n",
              "4          USE MY GUY SERVICES LLC Mesa  "
            ]
          },
          "metadata": {
            "tags": []
          },
          "execution_count": 6
        }
      ]
    },
    {
      "cell_type": "code",
      "metadata": {
        "id": "jn482y52CV-L"
      },
      "source": [
        "# Save the data\n",
        "# df.to_csv(\"web_scrape_names.csv\")"
      ],
      "execution_count": null,
      "outputs": []
    },
    {
      "cell_type": "code",
      "metadata": {
        "id": "2GfVI7W9CV-L"
      },
      "source": [
        "# https://www.yelp.com/biz/big-chickie-seattle\n",
        "\n",
        "# The pandas apply function to append to the list\n",
        "ls = []\n",
        "\n",
        "# Emily thoughts\n",
        "# chars to take care of : \n",
        "# & --> and\n",
        "# + --> - / omit  \n",
        "# ' --> omit\n",
        "# \"-\" --> stays\n",
        "# . --> omit / -\n",
        "# , --> omit \n",
        "# / --> hyphen \n",
        "#       need to check for the presence of / in each word and replace with -\n",
        "#       need to omit if it's the first char in url\n",
        "# - --> stay\n",
        "# array to hold characters we need to omit \n",
        "#    delete = [\"\"]\n",
        "\n",
        "def ls_maker(x): \n",
        "    web_string = f\"https://www.yelp.com/biz/{str(x).replace(' ', '-')}\"\n",
        "    ls.append(web_string)\n",
        "    return\n",
        "\n",
        "df[\"biz_city\"].apply(ls_maker)"
      ],
      "execution_count": null,
      "outputs": []
    },
    {
      "cell_type": "code",
      "metadata": {
        "id": "posFjWKisYKc"
      },
      "source": [
        ""
      ],
      "execution_count": null,
      "outputs": []
    }
  ]
}