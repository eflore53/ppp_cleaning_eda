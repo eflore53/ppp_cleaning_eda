{
 "cells": [
  {
   "cell_type": "code",
   "execution_count": 1,
   "metadata": {},
   "outputs": [],
   "source": [
    "import pandas as pd"
   ]
  },
  {
   "cell_type": "code",
   "execution_count": 5,
   "metadata": {},
   "outputs": [],
   "source": [
    "# Read in data\n",
    "yelp_business_path = \"../data/yelp_dataset/yelp_academic_dataset_business.json\"\n",
    "yelp_b_df = pd.read_json(yelp_business_path, lines=True)"
   ]
  },
  {
   "cell_type": "code",
   "execution_count": 6,
   "metadata": {},
   "outputs": [
    {
     "data": {
      "text/html": [
       "<div>\n",
       "<style scoped>\n",
       "    .dataframe tbody tr th:only-of-type {\n",
       "        vertical-align: middle;\n",
       "    }\n",
       "\n",
       "    .dataframe tbody tr th {\n",
       "        vertical-align: top;\n",
       "    }\n",
       "\n",
       "    .dataframe thead th {\n",
       "        text-align: right;\n",
       "    }\n",
       "</style>\n",
       "<table border=\"1\" class=\"dataframe\">\n",
       "  <thead>\n",
       "    <tr style=\"text-align: right;\">\n",
       "      <th></th>\n",
       "      <th>name</th>\n",
       "      <th>city</th>\n",
       "      <th>combined</th>\n",
       "    </tr>\n",
       "  </thead>\n",
       "  <tbody>\n",
       "    <tr>\n",
       "      <th>0</th>\n",
       "      <td>The Range At Lake Norman</td>\n",
       "      <td>Cornelius</td>\n",
       "      <td>The Range At Lake Norman Cornelius</td>\n",
       "    </tr>\n",
       "    <tr>\n",
       "      <th>1</th>\n",
       "      <td>Carlos Santo, NMD</td>\n",
       "      <td>Scottsdale</td>\n",
       "      <td>Carlos Santo, NMD Scottsdale</td>\n",
       "    </tr>\n",
       "    <tr>\n",
       "      <th>2</th>\n",
       "      <td>Felinus</td>\n",
       "      <td>Montreal</td>\n",
       "      <td>Felinus Montreal</td>\n",
       "    </tr>\n",
       "    <tr>\n",
       "      <th>3</th>\n",
       "      <td>Nevada House of Hose</td>\n",
       "      <td>North Las Vegas</td>\n",
       "      <td>Nevada House of Hose North Las Vegas</td>\n",
       "    </tr>\n",
       "    <tr>\n",
       "      <th>4</th>\n",
       "      <td>USE MY GUY SERVICES LLC</td>\n",
       "      <td>Mesa</td>\n",
       "      <td>USE MY GUY SERVICES LLC Mesa</td>\n",
       "    </tr>\n",
       "  </tbody>\n",
       "</table>\n",
       "</div>"
      ],
      "text/plain": [
       "                       name             city  \\\n",
       "0  The Range At Lake Norman        Cornelius   \n",
       "1         Carlos Santo, NMD       Scottsdale   \n",
       "2                   Felinus         Montreal   \n",
       "3      Nevada House of Hose  North Las Vegas   \n",
       "4   USE MY GUY SERVICES LLC             Mesa   \n",
       "\n",
       "                               combined  \n",
       "0    The Range At Lake Norman Cornelius  \n",
       "1          Carlos Santo, NMD Scottsdale  \n",
       "2                      Felinus Montreal  \n",
       "3  Nevada House of Hose North Las Vegas  \n",
       "4          USE MY GUY SERVICES LLC Mesa  "
      ]
     },
     "execution_count": 6,
     "metadata": {},
     "output_type": "execute_result"
    }
   ],
   "source": [
    "# Concat name and city together\n",
    "df = yelp_b_df[[\"name\", \"city\"]].copy()\n",
    "df[\"combined\"] = yelp_b_df[\"name\"] + \" \" + yelp_b_df[\"city\"]\n",
    "\n",
    "# This is the function for stripping values that we are working on\n",
    "df[\"combined\"] = df[\"combined\"].str.strip(\".-,\")\n",
    "df.head()"
   ]
  },
  {
   "cell_type": "code",
   "execution_count": 7,
   "metadata": {},
   "outputs": [],
   "source": [
    "# Save the data\n",
    "# df.to_csv(\"web_scrape_names.csv\")"
   ]
  },
  {
   "cell_type": "code",
   "execution_count": null,
   "metadata": {},
   "outputs": [],
   "source": [
    "# https://www.yelp.com/biz/big-chickie-seattle\n",
    "\n",
    "# The pandas apply function to append to the list\n",
    "ls = []\n",
    "def ls_maker(x): \n",
    "    web_string = f\"https://www.yelp.com/biz/{str(x).replace(' ', '-')}\"\n",
    "    ls.append(web_string)\n",
    "    return\n",
    "\n",
    "df[\"biz_city\"].apply(ls_maker)"
   ]
  }
 ],
 "metadata": {
  "kernelspec": {
   "display_name": "Python 3",
   "language": "python",
   "name": "python3"
  },
  "language_info": {
   "codemirror_mode": {
    "name": "ipython",
    "version": 3
   },
   "file_extension": ".py",
   "mimetype": "text/x-python",
   "name": "python",
   "nbconvert_exporter": "python",
   "pygments_lexer": "ipython3",
   "version": "3.7.4"
  }
 },
 "nbformat": 4,
 "nbformat_minor": 4
}
