{
 "cells": [
  {
   "cell_type": "code",
   "execution_count": 1,
   "metadata": {},
   "outputs": [],
   "source": [
    "import os\n",
    "import pandas as pd"
   ]
  },
  {
   "cell_type": "code",
   "execution_count": 2,
   "metadata": {},
   "outputs": [],
   "source": [
    "pd.options.display.float_format = \"{:,.0f}\".format"
   ]
  },
  {
   "cell_type": "code",
   "execution_count": 4,
   "metadata": {},
   "outputs": [],
   "source": [
    "# Paths\n",
    "ppp_path = \"../data/PPP_data_150k_plus.csv\"\n",
    "naics_path = \"../data/2017_NAICS_Structure.xlsx\"\n",
    "\n",
    "#Load Data into DF's\n",
    "naics_df = pd.read_excel(naics_path, header=2)\n",
    "ppp = pd.read_csv(ppp_path)"
   ]
  },
  {
   "cell_type": "code",
   "execution_count": 5,
   "metadata": {},
   "outputs": [],
   "source": [
    "data_dir = \"../data\""
   ]
  },
  {
   "cell_type": "code",
   "execution_count": 6,
   "metadata": {},
   "outputs": [],
   "source": [
    "cols = [\"LoanAmount\", \"Zip\", \"State\", \"NAICSCode\", \"BusinessType\", \"JobsReported\", \"DateApproved\"]\n",
    "df = pd.DataFrame(columns = cols)\n",
    "for folder in os.listdir(os.path.join(data_dir, \"All Data 0808\")):\n",
    "    if folder.endswith(\".pdf\"): continue\n",
    "    for file in os.listdir(os.path.join(data_dir, \"All Data 0808\", folder)):\n",
    "        if file.endswith(\".csv\"):\n",
    "            if file == \"PPP Data 150k plus 080820.csv\": continue\n",
    "            df = df.append(pd.read_csv(os.path.join(data_dir, \"All Data 0808\", folder, file), usecols = cols))"
   ]
  },
  {
   "cell_type": "markdown",
   "metadata": {},
   "source": [
    "### NAICS Merge w/ PPP Data"
   ]
  },
  {
   "cell_type": "code",
   "execution_count": 7,
   "metadata": {},
   "outputs": [],
   "source": [
    "test = ppp[ppp[\"NAICSCode\"].isna() == False]\n",
    "test.shape\n",
    "df_new = test.merge(naics_df, how=\"left\", left_on=\"NAICSCode\", right_on=\"2017 NAICS Code\")"
   ]
  },
  {
   "cell_type": "markdown",
   "metadata": {},
   "source": [
    "### PPP Data Merge w/ States that are present in yelp data"
   ]
  },
  {
   "cell_type": "code",
   "execution_count": 8,
   "metadata": {},
   "outputs": [],
   "source": [
    "state_ls = [\"AZ\", \"NV\", \"OH\", \"NC\", \"PA\", \"WI\", \"IL\", \"SC\"]\n",
    "df_merge = df_new[df_new[\"State\"].isin(state_ls)]"
   ]
  },
  {
   "cell_type": "code",
   "execution_count": 9,
   "metadata": {},
   "outputs": [
    {
     "data": {
      "text/html": [
       "<div>\n",
       "<style scoped>\n",
       "    .dataframe tbody tr th:only-of-type {\n",
       "        vertical-align: middle;\n",
       "    }\n",
       "\n",
       "    .dataframe tbody tr th {\n",
       "        vertical-align: top;\n",
       "    }\n",
       "\n",
       "    .dataframe thead th {\n",
       "        text-align: right;\n",
       "    }\n",
       "</style>\n",
       "<table border=\"1\" class=\"dataframe\">\n",
       "  <thead>\n",
       "    <tr style=\"text-align: right;\">\n",
       "      <th></th>\n",
       "      <th>LoanAmount</th>\n",
       "      <th>Zip</th>\n",
       "      <th>State</th>\n",
       "      <th>NAICSCode</th>\n",
       "      <th>BusinessType</th>\n",
       "      <th>JobsReported</th>\n",
       "      <th>DateApproved</th>\n",
       "      <th>2017 NAICS Title</th>\n",
       "    </tr>\n",
       "  </thead>\n",
       "  <tbody>\n",
       "    <tr>\n",
       "      <th>13773</th>\n",
       "      <td>a $5-10 million</td>\n",
       "      <td>85,018</td>\n",
       "      <td>AZ</td>\n",
       "      <td>621,111</td>\n",
       "      <td>Limited  Liability Company(LLC)</td>\n",
       "      <td>438</td>\n",
       "      <td>04/27/2020</td>\n",
       "      <td>Offices of Physicians (except Mental Health Sp...</td>\n",
       "    </tr>\n",
       "    <tr>\n",
       "      <th>13774</th>\n",
       "      <td>a $5-10 million</td>\n",
       "      <td>85,205</td>\n",
       "      <td>AZ</td>\n",
       "      <td>524,130</td>\n",
       "      <td>Corporation</td>\n",
       "      <td>2</td>\n",
       "      <td>04/28/2020</td>\n",
       "      <td>Reinsurance Carriers</td>\n",
       "    </tr>\n",
       "    <tr>\n",
       "      <th>13775</th>\n",
       "      <td>a $5-10 million</td>\n",
       "      <td>85,203</td>\n",
       "      <td>AZ</td>\n",
       "      <td>523,999</td>\n",
       "      <td>Subchapter S Corporation</td>\n",
       "      <td>471</td>\n",
       "      <td>04/27/2020</td>\n",
       "      <td>Miscellaneous Financial Investment Activities</td>\n",
       "    </tr>\n",
       "    <tr>\n",
       "      <th>13776</th>\n",
       "      <td>a $5-10 million</td>\n",
       "      <td>85,711</td>\n",
       "      <td>AZ</td>\n",
       "      <td>621,111</td>\n",
       "      <td>Corporation</td>\n",
       "      <td>500</td>\n",
       "      <td>04/29/2020</td>\n",
       "      <td>Offices of Physicians (except Mental Health Sp...</td>\n",
       "    </tr>\n",
       "    <tr>\n",
       "      <th>13777</th>\n",
       "      <td>a $5-10 million</td>\n",
       "      <td>85,016</td>\n",
       "      <td>AZ</td>\n",
       "      <td>721,110</td>\n",
       "      <td>Partnership</td>\n",
       "      <td>0</td>\n",
       "      <td>04/30/2020</td>\n",
       "      <td>Hotels (except Casino Hotels) and Motels</td>\n",
       "    </tr>\n",
       "  </tbody>\n",
       "</table>\n",
       "</div>"
      ],
      "text/plain": [
       "            LoanAmount    Zip State NAICSCode  \\\n",
       "13773  a $5-10 million 85,018    AZ   621,111   \n",
       "13774  a $5-10 million 85,205    AZ   524,130   \n",
       "13775  a $5-10 million 85,203    AZ   523,999   \n",
       "13776  a $5-10 million 85,711    AZ   621,111   \n",
       "13777  a $5-10 million 85,016    AZ   721,110   \n",
       "\n",
       "                          BusinessType  JobsReported DateApproved  \\\n",
       "13773  Limited  Liability Company(LLC)           438   04/27/2020   \n",
       "13774                      Corporation             2   04/28/2020   \n",
       "13775         Subchapter S Corporation           471   04/27/2020   \n",
       "13776                      Corporation           500   04/29/2020   \n",
       "13777                      Partnership             0   04/30/2020   \n",
       "\n",
       "                                        2017 NAICS Title  \n",
       "13773  Offices of Physicians (except Mental Health Sp...  \n",
       "13774                              Reinsurance Carriers   \n",
       "13775     Miscellaneous Financial Investment Activities   \n",
       "13776  Offices of Physicians (except Mental Health Sp...  \n",
       "13777          Hotels (except Casino Hotels) and Motels   "
      ]
     },
     "execution_count": 9,
     "metadata": {},
     "output_type": "execute_result"
    }
   ],
   "source": [
    "# Rename columns to match column names in df_new\n",
    "cols2 = [\"LoanAmount\", \"Zip\", \"State\", \"NAICSCode\", \"BusinessType\", \"JobsReported\", \"DateApproved\", \"2017 NAICS Title\"]\n",
    "df_merge = df_merge[[\"LoanRange\", \"Zip\", \"State\", \"NAICSCode\", \"BusinessType\", \"JobsRetained\", \"DateApproved\", \"2017 NAICS Title\"]]\n",
    "df_merge.columns = cols2\n",
    "df_merge.head()"
   ]
  },
  {
   "cell_type": "code",
   "execution_count": 12,
   "metadata": {},
   "outputs": [
    {
     "name": "stdout",
     "output_type": "stream",
     "text": [
      "(836028, 7)\n"
     ]
    },
    {
     "data": {
      "text/html": [
       "<div>\n",
       "<style scoped>\n",
       "    .dataframe tbody tr th:only-of-type {\n",
       "        vertical-align: middle;\n",
       "    }\n",
       "\n",
       "    .dataframe tbody tr th {\n",
       "        vertical-align: top;\n",
       "    }\n",
       "\n",
       "    .dataframe thead th {\n",
       "        text-align: right;\n",
       "    }\n",
       "</style>\n",
       "<table border=\"1\" class=\"dataframe\">\n",
       "  <thead>\n",
       "    <tr style=\"text-align: right;\">\n",
       "      <th></th>\n",
       "      <th>LoanAmount</th>\n",
       "      <th>Zip</th>\n",
       "      <th>State</th>\n",
       "      <th>NAICSCode</th>\n",
       "      <th>BusinessType</th>\n",
       "      <th>JobsReported</th>\n",
       "      <th>DateApproved</th>\n",
       "      <th>Change Indicator</th>\n",
       "      <th>2017 NAICS Code</th>\n",
       "      <th>2017 NAICS Title</th>\n",
       "    </tr>\n",
       "  </thead>\n",
       "  <tbody>\n",
       "    <tr>\n",
       "      <th>0</th>\n",
       "      <td>149,990</td>\n",
       "      <td>17070</td>\n",
       "      <td>PA</td>\n",
       "      <td>721,110</td>\n",
       "      <td>Corporation</td>\n",
       "      <td>29</td>\n",
       "      <td>04/13/2020</td>\n",
       "      <td>NaN</td>\n",
       "      <td>721110</td>\n",
       "      <td>Hotels (except Casino Hotels) and Motels</td>\n",
       "    </tr>\n",
       "    <tr>\n",
       "      <th>1</th>\n",
       "      <td>149,989</td>\n",
       "      <td>17754</td>\n",
       "      <td>PA</td>\n",
       "      <td>332,710</td>\n",
       "      <td>Corporation</td>\n",
       "      <td>0</td>\n",
       "      <td>08/04/2020</td>\n",
       "      <td>NaN</td>\n",
       "      <td>332710</td>\n",
       "      <td>Machine Shops</td>\n",
       "    </tr>\n",
       "    <tr>\n",
       "      <th>2</th>\n",
       "      <td>149,987</td>\n",
       "      <td>19610</td>\n",
       "      <td>PA</td>\n",
       "      <td>541,310</td>\n",
       "      <td>Subchapter S Corporation</td>\n",
       "      <td>11</td>\n",
       "      <td>04/15/2020</td>\n",
       "      <td>NaN</td>\n",
       "      <td>541310</td>\n",
       "      <td>Architectural Services</td>\n",
       "    </tr>\n",
       "    <tr>\n",
       "      <th>3</th>\n",
       "      <td>149,985</td>\n",
       "      <td>17111</td>\n",
       "      <td>PA</td>\n",
       "      <td>237,990</td>\n",
       "      <td>Subchapter S Corporation</td>\n",
       "      <td>16</td>\n",
       "      <td>04/14/2020</td>\n",
       "      <td>NaN</td>\n",
       "      <td>237990</td>\n",
       "      <td>Other Heavy and Civil Engineering Construction</td>\n",
       "    </tr>\n",
       "    <tr>\n",
       "      <th>4</th>\n",
       "      <td>149,977</td>\n",
       "      <td>19124</td>\n",
       "      <td>PA</td>\n",
       "      <td>541,511</td>\n",
       "      <td>Limited  Liability Company(LLC)</td>\n",
       "      <td>20</td>\n",
       "      <td>08/06/2020</td>\n",
       "      <td>NaN</td>\n",
       "      <td>541511</td>\n",
       "      <td>Custom Computer Programming Services</td>\n",
       "    </tr>\n",
       "  </tbody>\n",
       "</table>\n",
       "</div>"
      ],
      "text/plain": [
       "   LoanAmount    Zip State NAICSCode                     BusinessType  \\\n",
       "0     149,990  17070    PA   721,110                      Corporation   \n",
       "1     149,989  17754    PA   332,710                      Corporation   \n",
       "2     149,987  19610    PA   541,310         Subchapter S Corporation   \n",
       "3     149,985  17111    PA   237,990         Subchapter S Corporation   \n",
       "4     149,977  19124    PA   541,511  Limited  Liability Company(LLC)   \n",
       "\n",
       "   JobsReported DateApproved Change Indicator 2017 NAICS Code  \\\n",
       "0            29   04/13/2020              NaN          721110   \n",
       "1             0   08/04/2020              NaN          332710   \n",
       "2            11   04/15/2020              NaN          541310   \n",
       "3            16   04/14/2020              NaN          237990   \n",
       "4            20   08/06/2020              NaN          541511   \n",
       "\n",
       "                                  2017 NAICS Title  \n",
       "0        Hotels (except Casino Hotels) and Motels   \n",
       "1                                    Machine Shops  \n",
       "2                           Architectural Services  \n",
       "3  Other Heavy and Civil Engineering Construction   \n",
       "4            Custom Computer Programming Services   "
      ]
     },
     "execution_count": 12,
     "metadata": {},
     "output_type": "execute_result"
    }
   ],
   "source": [
    "# Merge codes onto data with loans under 150k loans\n",
    "test2 = df[df[\"NAICSCode\"].isna() == False]\n",
    "print(df.shape)\n",
    "df_new2 = test2.merge(naics_df, how=\"left\", left_on=\"NAICSCode\", right_on=\"2017 NAICS Code\")\n",
    "df_new2.head()"
   ]
  },
  {
   "cell_type": "code",
   "execution_count": 11,
   "metadata": {},
   "outputs": [],
   "source": [
    "# Save new dataframes to csv\n",
    "df_new2.to_csv(\"under150k.csv\")\n",
    "df_merge.to_csv(\"over150k.csv\")"
   ]
  }
 ],
 "metadata": {
  "kernelspec": {
   "display_name": "Python 3",
   "language": "python",
   "name": "python3"
  },
  "language_info": {
   "codemirror_mode": {
    "name": "ipython",
    "version": 3
   },
   "file_extension": ".py",
   "mimetype": "text/x-python",
   "name": "python",
   "nbconvert_exporter": "python",
   "pygments_lexer": "ipython3",
   "version": "3.7.4"
  }
 },
 "nbformat": 4,
 "nbformat_minor": 4
}
